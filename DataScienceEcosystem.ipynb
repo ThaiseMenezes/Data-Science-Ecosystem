{
 "cells": [
  {
   "cell_type": "markdown",
   "id": "4b67326b-afa8-45ca-b0a9-289085c41fdd",
   "metadata": {},
   "source": [
    "# Data Science Tools and Ecosystem"
   ]
  },
  {
   "cell_type": "markdown",
   "id": "31e780f5-080f-48b6-b9ff-7d57d9574962",
   "metadata": {
    "tags": []
   },
   "source": [
    "### Intruduction\n",
    "\n",
    "In this notebook, Data Science Tools and Ecosystem are summarized."
   ]
  },
  {
   "cell_type": "markdown",
   "id": "4a9a764a-1d20-43b3-9a4e-03559cfe7224",
   "metadata": {
    "tags": []
   },
   "source": [
    "## Important Topics in this notebook\n",
    "### Objectives:\n",
    "* Data Science Languages;\n",
    "* Data Science Llibraries;\n",
    "* Data Science Tools;\n",
    "* Arithmetic Expressions in Python;\n",
    "\n",
    "\n",
    "\n"
   ]
  },
  {
   "cell_type": "markdown",
   "id": "3b2906c2-ca2a-410e-a3f6-ff8f76e1f789",
   "metadata": {},
   "source": [
    "# Data Science Languages \n",
    "\n",
    "Some of the popular languages that Data Scientists use are:\n",
    "1. Python\n",
    "2. SQL\n",
    "3. R"
   ]
  },
  {
   "cell_type": "markdown",
   "id": "827695ed-922e-4e3f-b76c-c141987a6653",
   "metadata": {
    "tags": []
   },
   "source": [
    "# Data Science Libraries\n",
    "\n",
    "Some of the commonly used libraries used by Data Scientists include:\n",
    "* Pandas\n",
    "* MatplotLib\n",
    "* NumPy\n",
    "* TensorFlow\n",
    "* Scikit-learn"
   ]
  },
  {
   "cell_type": "markdown",
   "id": "80fbed40-4ec4-4228-a0c8-b3fd0a96eb6c",
   "metadata": {},
   "source": [
    "# Single table of Data Science tools\n",
    "\n",
    " Data Science Tools: Dev Enviroment|\n",
    "| ----------------------------------|\n",
    "| Jupyter Notebook |\n",
    "| VS Code |\n",
    "| Anaconda |"
   ]
  },
  {
   "cell_type": "markdown",
   "id": "02bdd964-26a1-4b5c-97d1-145b9b73c4dd",
   "metadata": {},
   "source": [
    "\n",
    "### Below are a few examples of evaluating arithmetic expressions in Python\n",
    "\n"
   ]
  },
  {
   "cell_type": "code",
   "execution_count": 4,
   "id": "dcc8c72f-473a-4d26-9ace-4858d1c1cade",
   "metadata": {
    "tags": []
   },
   "outputs": [
    {
     "data": {
      "text/plain": [
       "17"
      ]
     },
     "execution_count": 4,
     "metadata": {},
     "output_type": "execute_result"
    }
   ],
   "source": [
    "#This a simple arithmetic expression to mutiply then add integers\n",
    "\n",
    "(3*4)+5"
   ]
  },
  {
   "cell_type": "markdown",
   "id": "47413ce3-99ff-47a0-a7e5-5f16d3c5278c",
   "metadata": {
    "tags": []
   },
   "source": [
    "### Converting Minutes to Hours"
   ]
  },
  {
   "cell_type": "code",
   "execution_count": 8,
   "id": "b9b8c2a0-4623-48e4-abed-229e1acd49f6",
   "metadata": {
    "tags": []
   },
   "outputs": [
    {
     "data": {
      "text/plain": [
       "3.3333333333333335"
      ]
     },
     "execution_count": 8,
     "metadata": {},
     "output_type": "execute_result"
    }
   ],
   "source": [
    "#This will convert 200 minutes to hours by diving by 60.\n",
    "\n",
    "200 / 60\n",
    "\n"
   ]
  },
  {
   "cell_type": "markdown",
   "id": "a770f6e5-ec05-4767-865f-635997b906f8",
   "metadata": {
    "tags": []
   },
   "source": [
    "## Author\n",
    "Thaise Oliveira de Menezes"
   ]
  },
  {
   "cell_type": "code",
   "execution_count": null,
   "id": "4d0595cc-4a74-4194-87e2-ab25b311a5a5",
   "metadata": {},
   "outputs": [],
   "source": []
  }
 ],
 "metadata": {
  "kernelspec": {
   "display_name": "Python 3 (ipykernel)",
   "language": "python",
   "name": "python3"
  },
  "language_info": {
   "codemirror_mode": {
    "name": "ipython",
    "version": 3
   },
   "file_extension": ".py",
   "mimetype": "text/x-python",
   "name": "python",
   "nbconvert_exporter": "python",
   "pygments_lexer": "ipython3",
   "version": "3.11.5"
  }
 },
 "nbformat": 4,
 "nbformat_minor": 5
}
